{
  "nbformat": 4,
  "nbformat_minor": 0,
  "metadata": {
    "colab": {
      "provenance": []
    },
    "kernelspec": {
      "name": "python3",
      "display_name": "Python 3"
    },
    "language_info": {
      "name": "python"
    }
  },
  "cells": [
    {
      "cell_type": "markdown",
      "source": [
        "#Data Science Notebook 1\n"
      ],
      "metadata": {
        "id": "Jxk2V387Gvum"
      }
    },
    {
      "cell_type": "markdown",
      "source": [
        "## My Name is Hanan Jatoi\n",
        "\n",
        "1.   Id = FA21-BSCS-0012\n",
        "2.   Department =Computer Science\n",
        "3.   University= MAJU\n",
        "\n",
        "In this notebook, we explore some of the popular tools, languages, and libraries used in the field of Data Science. This also includes examples of basic arithmetic operations and data formatting.\n",
        "\n"
      ],
      "metadata": {
        "id": "w8yikWq5G4xB"
      }
    },
    {
      "cell_type": "markdown",
      "source": [
        "## Popular Languages for Data Science\n",
        "Some of the commonly used languages in Data Science are:\n",
        "- Python\n",
        "- R\n",
        "- SQL\n",
        "- Julia\n",
        "- Scala\n"
      ],
      "metadata": {
        "id": "VjG3CkmCHj9i"
      }
    },
    {
      "cell_type": "markdown",
      "source": [
        "## Commonly Used Libraries in Data Science\n",
        "- Pandas\n",
        "- NumPy\n",
        "- Matplotlib\n",
        "- Scikit-learn\n",
        "- TensorFlow\n",
        "- Keras\n"
      ],
      "metadata": {
        "id": "qDAs8XZsHpo_"
      }
    },
    {
      "cell_type": "markdown",
      "source": [
        "## Data Science Tools\n",
        "\n",
        "| Category           | Tool              |\n",
        "|--------------------|-------------------|\n",
        "| Data Analysis      | Pandas            |\n",
        "| Data Visualization | Tableau, Matplotlib |\n",
        "| Machine Learning   | Scikit-learn, TensorFlow |\n",
        "| Big Data           | Apache Spark      |\n",
        "| Version Control    | Git, GitHub       |\n"
      ],
      "metadata": {
        "id": "Sl4VLytcHtCR"
      }
    },
    {
      "cell_type": "markdown",
      "source": [
        "## Arithmetic Expression Examples\n",
        "Below are examples of simple arithmetic expressions like multiplication and addition.\n"
      ],
      "metadata": {
        "id": "CEdXl47-HxX9"
      }
    },
    {
      "cell_type": "code",
      "source": [
        "# This will multiply and add numbers\n",
        "result = (3 * 4) + 5\n",
        "result\n"
      ],
      "metadata": {
        "colab": {
          "base_uri": "https://localhost:8080/"
        },
        "id": "j6zpiTZ4Hk8-",
        "outputId": "872a0847-1c32-4477-89f0-15cfdb2eb8bc"
      },
      "execution_count": 1,
      "outputs": [
        {
          "output_type": "execute_result",
          "data": {
            "text/plain": [
              "17"
            ]
          },
          "metadata": {},
          "execution_count": 1
        }
      ]
    },
    {
      "cell_type": "code",
      "source": [
        "# Convert 200 minutes to hours\n",
        "minutes = 200\n",
        "hours = minutes / 60\n",
        "hours\n"
      ],
      "metadata": {
        "colab": {
          "base_uri": "https://localhost:8080/"
        },
        "id": "8H3QrGtQH5xo",
        "outputId": "665ef18c-13c3-425f-c083-07bf790112ba"
      },
      "execution_count": 2,
      "outputs": [
        {
          "output_type": "execute_result",
          "data": {
            "text/plain": [
              "3.3333333333333335"
            ]
          },
          "metadata": {},
          "execution_count": 2
        }
      ]
    },
    {
      "cell_type": "markdown",
      "source": [
        "## Objectives\n",
        "- Understand tools used in Data Science\n",
        "- Learn key programming languages\n",
        "- Explore popular libraries\n",
        "- Perform arithmetic in code cells\n",
        "- Share notebooks on GitHub\n"
      ],
      "metadata": {
        "id": "cyHgwydXIA-h"
      }
    },
    {
      "cell_type": "markdown",
      "source": [
        "## Author : Hanan Jatoi"
      ],
      "metadata": {
        "id": "xQVFjqQxINq8"
      }
    }
  ]
}